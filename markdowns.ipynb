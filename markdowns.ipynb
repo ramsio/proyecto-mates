{
 "cells": [
  {
   "cell_type": "markdown",
   "id": "dedfff16-27d0-414e-8ef4-de6312247ef7",
   "metadata": {
    "tags": []
   },
   "source": [
    "# Titulo de nivel 1\n",
    "## Titulo de nivel 2\n",
    "### Titulo de nivel 3\n",
    "#### Titulo de nivel 4"
   ]
  },
  {
   "cell_type": "markdown",
   "id": "9340ee7a-32af-4d28-bc1d-25e6a7d1c9f6",
   "metadata": {},
   "source": [
    "### **Texto en negrita**\n",
    "### *Texto en cursiva*"
   ]
  },
  {
   "cell_type": "markdown",
   "id": "3a1152d8-7903-4dc0-bfa2-97ea2c611e00",
   "metadata": {},
   "source": [
    "## - Esto es una lista no numerada\n",
    "\n",
    "## 1. Esto es una lista numerada\n",
    "    1.1 Subindice"
   ]
  },
  {
   "cell_type": "markdown",
   "id": "76051b87-d868-4406-9cbf-a7937c20c8f3",
   "metadata": {},
   "source": [
    "### Insertando un enlace:  [Accediendo a google](https://www.google.com)"
   ]
  },
  {
   "cell_type": "markdown",
   "id": "58ba16d5-4466-4a04-a2c2-85c6e48770c8",
   "metadata": {},
   "source": [
    "### Insertando una imagen: ![Gatito](https://as2.ftcdn.net/v2/jpg/02/84/36/59/1000_F_284365935_RQAZNpqkgzIyCRWibM3a3t2tgwWpkHP1.jpg)"
   ]
  },
  {
   "cell_type": "markdown",
   "id": "1781d4ef-a7c7-4383-a564-16a5b2d7e06d",
   "metadata": {},
   "source": [
    "---"
   ]
  },
  {
   "cell_type": "code",
   "execution_count": null,
   "id": "44a35eb8-faa1-4270-811d-933fdf14f1f1",
   "metadata": {},
   "outputs": [],
   "source": []
  }
 ],
 "metadata": {
  "kernelspec": {
   "display_name": "Python 3 (ipykernel)",
   "language": "python",
   "name": "python3"
  },
  "language_info": {
   "codemirror_mode": {
    "name": "ipython",
    "version": 3
   },
   "file_extension": ".py",
   "mimetype": "text/x-python",
   "name": "python",
   "nbconvert_exporter": "python",
   "pygments_lexer": "ipython3",
   "version": "3.9.7"
  },
  "toc-autonumbering": false
 },
 "nbformat": 4,
 "nbformat_minor": 5
}
